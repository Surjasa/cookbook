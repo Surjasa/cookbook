{
 "cells": [
  {
   "cell_type": "markdown",
   "metadata": {
    "id": "8968a502d25e"
   },
   "source": [
    "##### Copyright 2025 Google LLC."
   ]
  },
  {
   "cell_type": "code",
   "execution_count": null,
   "metadata": {
    "cellView": "form",
    "id": "ca23c3f523a7"
   },
   "outputs": [],
   "source": [
    "# @title Licensed under the Apache License, Version 2.0 (the \"License\");\n",
    "# you may not use this file except in compliance with the License.\n",
    "# You may obtain a copy of the License at\n",
    "#\n",
    "# https://www.apache.org/licenses/LICENSE-2.0\n",
    "#\n",
    "# Unless required by applicable law or agreed to in writing, software\n",
    "# distributed under the License is distributed on an \"AS IS\" BASIS,\n",
    "# WITHOUT WARRANTIES OR CONDITIONS OF ANY KIND, either express or implied.\n",
    "# See the License for the specific language governing permissions and\n",
    "# limitations under the License."
   ]
  },
  {
   "cell_type": "markdown",
   "metadata": {
    "id": "wwH5rYtX5Xco"
   },
   "source": [
    "# Exploring Advanced Parameters with Updated Models"
   ]
  },
  {
   "cell_type": "markdown",
   "metadata": {
    "id": "67ad518df45c"
   },
   "source": [
    "<a target=\"_blank\" href=\"https://colab.research.google.com/github/google-gemini/cookbook/blob/main/quickstarts/New_in_002.ipynb\"><img src=\"https://colab.research.google.com/assets/colab-badge.svg\" height=30/></a>"
   ]
  },
  {
   "cell_type": "markdown",
   "metadata": {
    "id": "V4RV6XuQLjCc"
   },
   "source": [
    "This notebook explores the new options added with the 002 versions of the 1.5 series models:\n",
    "\n",
    "* Candidate count\n",
    "* Presence and frequency penalties\n",
    "* Response logprobs\n"
   ]
  },
  {
   "cell_type": "markdown",
   "metadata": {},
   "source": [
    "**Note**:\n",
    "\n",
    "* This notebook was originally designed for `002` models. It has been updated to work with the latest models in the SDK, focusing on advanced parameter exploration."
   ]
  },
  {
   "cell_type": "markdown",
   "metadata": {
    "id": "a5ZjsAuEGK6i"
   },
   "source": [
    "## Setup"
   ]
  },
  {
   "cell_type": "markdown",
   "metadata": {
    "id": "Tnl6PeGKOfcA"
   },
   "source": [
    "Install the latest version of the `google-genai` SDK:"
   ]
  },
  {
   "cell_type": "code",
   "execution_count": 1,
   "metadata": {
    "id": "xVTnXHg_nxMC"
   },
   "outputs": [
    {
     "name": "stdout",
     "output_type": "stream",
     "text": [
      "Note: you may need to restart the kernel to use updated packages.\n"
     ]
    }
   ],
   "source": [
    "%pip install -q \"google-genai\""
   ]
  },
  {
   "cell_type": "markdown",
   "metadata": {
    "id": "qLASVngmOm8K"
   },
   "source": [
    "Import the package and set up your API key:"
   ]
  },
  {
   "cell_type": "code",
   "execution_count": 2,
   "metadata": {
    "id": "B6fY-RbxJl78"
   },
   "outputs": [],
   "source": [
    "from google import genai"
   ]
  },
  {
   "cell_type": "code",
   "execution_count": 3,
   "metadata": {
    "id": "sRmN-qzhM47E"
   },
   "outputs": [],
   "source": [
    "import os\n",
    "api_key = os.getenv(\"GEMINI_API_KEY\")"
   ]
  },
  {
   "cell_type": "code",
   "execution_count": 4,
   "metadata": {},
   "outputs": [],
   "source": [
    "client = genai.Client(api_key=api_key)"
   ]
  },
  {
   "cell_type": "markdown",
   "metadata": {
    "id": "7d-e1KfaOxlJ"
   },
   "source": [
    "Import other packages."
   ]
  },
  {
   "cell_type": "code",
   "execution_count": 5,
   "metadata": {
    "id": "giN4GuufOu02"
   },
   "outputs": [],
   "source": [
    "from IPython.display import display, Markdown, HTML"
   ]
  },
  {
   "cell_type": "markdown",
   "metadata": {
    "id": "qJO3Cz7UO0Ms"
   },
   "source": [
    "Check model availibility:"
   ]
  },
  {
   "cell_type": "code",
   "execution_count": 6,
   "metadata": {},
   "outputs": [
    {
     "name": "stdout",
     "output_type": "stream",
     "text": [
      "Success! API key works\n",
      "Hello! How can I help you today?\n"
     ]
    }
   ],
   "source": [
    "# Try the simplest possible call first\n",
    "try:\n",
    "    response = client.models.generate_content(\n",
    "        model=\"gemini-2.5-flash\", \n",
    "        contents=\"Hello\"\n",
    "    )\n",
    "    print(\"Success! API key works\")\n",
    "    print(response.text)\n",
    "except Exception as e:\n",
    "    print(f\"Still failing: {e}\")\n"
   ]
  },
  {
   "cell_type": "code",
   "execution_count": 7,
   "metadata": {},
   "outputs": [
    {
     "name": "stdout",
     "output_type": "stream",
     "text": [
      "models/embedding-gecko-001\n",
      "models/gemini-2.5-pro-preview-03-25\n",
      "models/gemini-2.5-flash-preview-05-20\n",
      "models/gemini-2.5-flash\n",
      "models/gemini-2.5-flash-lite-preview-06-17\n",
      "models/gemini-2.5-pro-preview-05-06\n",
      "models/gemini-2.5-pro-preview-06-05\n",
      "models/gemini-2.5-pro\n",
      "models/gemini-2.0-flash-exp\n",
      "models/gemini-2.0-flash\n",
      "models/gemini-2.0-flash-001\n",
      "models/gemini-2.0-flash-exp-image-generation\n",
      "models/gemini-2.0-flash-lite-001\n",
      "models/gemini-2.0-flash-lite\n",
      "models/gemini-2.0-flash-preview-image-generation\n",
      "models/gemini-2.0-flash-lite-preview-02-05\n",
      "models/gemini-2.0-flash-lite-preview\n",
      "models/gemini-2.0-pro-exp\n",
      "models/gemini-2.0-pro-exp-02-05\n",
      "models/gemini-exp-1206\n",
      "models/gemini-2.0-flash-thinking-exp-01-21\n",
      "models/gemini-2.0-flash-thinking-exp\n",
      "models/gemini-2.0-flash-thinking-exp-1219\n",
      "models/gemini-2.5-flash-preview-tts\n",
      "models/gemini-2.5-pro-preview-tts\n",
      "models/learnlm-2.0-flash-experimental\n",
      "models/gemma-3-1b-it\n",
      "models/gemma-3-4b-it\n",
      "models/gemma-3-12b-it\n",
      "models/gemma-3-27b-it\n",
      "models/gemma-3n-e4b-it\n",
      "models/gemma-3n-e2b-it\n",
      "models/gemini-flash-latest\n",
      "models/gemini-flash-lite-latest\n",
      "models/gemini-pro-latest\n",
      "models/gemini-2.5-flash-lite\n",
      "models/gemini-2.5-flash-image-preview\n",
      "models/gemini-2.5-flash-image\n",
      "models/gemini-2.5-flash-preview-09-2025\n",
      "models/gemini-2.5-flash-lite-preview-09-2025\n",
      "models/gemini-robotics-er-1.5-preview\n",
      "models/gemini-2.5-computer-use-preview-10-2025\n",
      "models/embedding-001\n",
      "models/text-embedding-004\n",
      "models/gemini-embedding-exp-03-07\n",
      "models/gemini-embedding-exp\n",
      "models/gemini-embedding-001\n",
      "models/aqa\n",
      "models/imagen-3.0-generate-002\n",
      "models/imagen-4.0-generate-preview-06-06\n",
      "models/imagen-4.0-ultra-generate-preview-06-06\n",
      "models/imagen-4.0-generate-001\n",
      "models/imagen-4.0-ultra-generate-001\n",
      "models/imagen-4.0-fast-generate-001\n",
      "models/veo-2.0-generate-001\n",
      "models/veo-3.0-generate-preview\n",
      "models/veo-3.0-fast-generate-preview\n",
      "models/veo-3.0-generate-001\n",
      "models/veo-3.0-fast-generate-001\n",
      "models/veo-3.1-generate-preview\n",
      "models/veo-3.1-fast-generate-preview\n",
      "models/gemini-2.5-flash-preview-native-audio-dialog\n",
      "models/gemini-2.5-flash-exp-native-audio-thinking-dialog\n",
      "models/gemini-2.0-flash-live-001\n",
      "models/gemini-live-2.5-flash-preview\n",
      "models/gemini-2.5-flash-live-preview\n",
      "models/gemini-2.5-flash-native-audio-latest\n",
      "models/gemini-2.5-flash-native-audio-preview-09-2025\n"
     ]
    }
   ],
   "source": [
    "for model in client.models.list():  \n",
    "        print(model.name)"
   ]
  },
  {
   "cell_type": "code",
   "execution_count": 8,
   "metadata": {
    "id": "RCFdQUXsIDcm"
   },
   "outputs": [],
   "source": [
    "model_name = \"models/gemini-2.5-flash\"\n",
    "test_prompt=\"Why don't people have tails?\""
   ]
  },
  {
   "cell_type": "markdown",
   "metadata": {
    "id": "EBiweaL6LLKm"
   },
   "source": [
    "## Quick refresher on `generation_config` [Optional]"
   ]
  },
  {
   "cell_type": "code",
   "execution_count": 9,
   "metadata": {},
   "outputs": [],
   "source": [
    "from google.genai import types"
   ]
  },
  {
   "cell_type": "code",
   "execution_count": 10,
   "metadata": {
    "id": "bwwgGRtnLOqJ"
   },
   "outputs": [],
   "source": [
    "client = genai.Client()\n",
    "\n",
    "response = client.models.generate_content(\n",
    "model= model_name,\n",
    "contents='hello',\n",
    "config=types.GenerateContentConfig(    \n",
    "temperature=1.0,\n",
    "max_output_tokens=5,\n",
    "),\n",
    ")"
   ]
  },
  {
   "cell_type": "markdown",
   "metadata": {
    "id": "5sDxl0g-LQdx"
   },
   "source": [
    "Note:\n",
    "\n",
    "* Each `generate_content` request is sent with a `generation_config` (`chat.send_message` uses `generate_content`).\n",
    "* You can set the `generation_config` by either passing it to the model's initializer, or passing it in the arguments to `generate_content` (or `chat.send_message`).\n",
    "* Any `generation_config` attributes set in `generate_content` override the attributes set on the model.\n",
    "* You can pass the `generation_config` as either a Python `dict`, or a `genai.GenerationConfig`.\n",
    "* If you're ever unsure about the parameters of `generation_config` check `genai.GenerationConfig`."
   ]
  },
  {
   "cell_type": "markdown",
   "metadata": {
    "id": "8Cu9hYM4H8Cz"
   },
   "source": [
    "## Candidate count"
   ]
  },
  {
   "cell_type": "markdown",
   "metadata": {
    "id": "y_D56ekoO4pd"
   },
   "source": [
    "With 002 models you can now use `candidate_count > 1`."
   ]
  },
  {
   "cell_type": "code",
   "execution_count": 11,
   "metadata": {
    "id": "Ez_8Dm-WMIcp"
   },
   "outputs": [],
   "source": [
    "model = model_name"
   ]
  },
  {
   "cell_type": "code",
   "execution_count": 12,
   "metadata": {
    "id": "v5fwiDPjIAfj"
   },
   "outputs": [],
   "source": [
    "generation_config = dict(candidate_count=2)"
   ]
  },
  {
   "cell_type": "code",
   "execution_count": 13,
   "metadata": {
    "id": "Xr6DXm9_IGEJ"
   },
   "outputs": [],
   "source": [
    "response = client.models.generate_content(\n",
    "    model= model,\n",
    "    contents=test_prompt, \n",
    "    config=generation_config\n",
    ")"
   ]
  },
  {
   "cell_type": "markdown",
   "metadata": {
    "id": "xg9Qdl1oPBX9"
   },
   "source": [
    "Here the `.text` quick-accessor returns the text result from the first candidate when multiple candidates are present."
   ]
  },
  {
   "cell_type": "code",
   "execution_count": 14,
   "metadata": {
    "id": "gxNgE6_SI7az"
   },
   "outputs": [
    {
     "name": "stderr",
     "output_type": "stream",
     "text": [
      "there are 2 candidates, returning text result from the first candidate. Access response.candidates directly to get the result from other candidates.\n"
     ]
    }
   ],
   "source": [
    "try:\n",
    "  response.text # Does not fail with multiple candidates, Returns text from the first candidate when multiple candidates are present.\n",
    "except ValueError as e:\n",
    "  print(e)"
   ]
  },
  {
   "cell_type": "markdown",
   "metadata": {
    "id": "HDCqgP7YPHur"
   },
   "source": [
    "When multiple candidates are present, iterate over `response.candidates` to access the content of each candidate individually:"
   ]
  },
  {
   "cell_type": "code",
   "execution_count": 15,
   "metadata": {
    "id": "b8Ud37EjJCfc"
   },
   "outputs": [
    {
     "data": {
      "text/markdown": [
       "The simple answer is **evolution**. Humans, along with other great apes (like chimpanzees, gorillas, and orangutans), evolved in a way that made tails unnecessary and even disadvantageous for our primary mode of locomotion and lifestyle.\n",
       "\n",
       "Here's a more detailed breakdown:\n",
       "\n",
       "1.  **Our Ancestors Had Tails:** Our very distant primate ancestors *did* have tails. These were useful for balance when climbing through trees, for grasping branches (in some cases, like spider monkeys, who have prehensile tails), and for communication.\n",
       "\n",
       "2.  **The Shift to Apes:** The evolutionary lineage leading to humans diverged from monkeys millions of years ago. One of the key distinctions between Old World Monkeys (many of whom have tails) and Apes (none of whom have external tails) is this very feature.\n",
       "\n",
       "3.  **Bipedalism and Upright Posture:** This is the most significant factor. As our ancestors began to spend more time on the ground and eventually evolved to walk upright on two legs (bipedalism):\n",
       "    *   **Balance:** A tail, which helps quadrupedal animals (four-legged) balance, became less useful for bipedal balance. Our upright posture and changes in our spine and pelvis allow us to balance differently.\n",
       "    *   **Energy Cost:** Building and maintaining a tail (with bones, muscles, nerves, and skin) requires energy and resources. If it's not providing a significant advantage, natural selection will favor individuals who don't expend those resources on a redundant structure.\n",
       "    *   **Hindrance:** A tail might even have become a hindrance, potentially getting in the way or becoming a liability when navigating varied terrain or escaping predators while walking upright.\n",
       "\n",
       "4.  **Changes in Pelvis and Spine:** The evolution of bipedalism profoundly changed the structure of our pelvis and the curvature of our spine. These adaptations are crucial for supporting our body weight and maintaining balance while walking upright. A tail would require a different anatomical configuration that wouldn't fit well with our current structure.\n",
       "\n",
       "5.  **The Coccyx (Tailbone):** We still have a remnant of a tail! It's called the **coccyx**, or tailbone. This small, fused bone at the very bottom of our spine is the vestigial (non-functional remnant) of our ancestral tail. It serves a minor purpose today, providing an attachment point for some muscles and ligaments.\n",
       "\n",
       "6.  **Embryonic Development:** Interestingly, human embryos *do* have a tail-like structure (a \"caudal eminence\") during early development, around weeks 4-6. However, this structure normally recedes and is absorbed, fusing to form the coccyx. This fleeting embryonic tail is a powerful piece of evidence for our evolutionary history.\n",
       "\n",
       "In rare cases, babies are born with what is sometimes called a \"true human tail.\" This is a developmental anomaly (an atavism) where the embryonic tail structure doesn't fully regress. These are typically soft tissue growths and are usually removed surgically."
      ],
      "text/plain": [
       "<IPython.core.display.Markdown object>"
      ]
     },
     "metadata": {},
     "output_type": "display_data"
    },
    {
     "data": {
      "text/markdown": [
       "-------------"
      ],
      "text/plain": [
       "<IPython.core.display.Markdown object>"
      ]
     },
     "metadata": {},
     "output_type": "display_data"
    },
    {
     "data": {
      "text/markdown": [
       "It's a fascinating question that delves deep into our evolutionary history! The short answer is that **humans, along with other great apes (chimpanzees, gorillas, orangutans, and bonobos), lost their tails over millions of years of evolution because it was no longer advantageous and eventually became a disadvantage for their changing lifestyles.**\n",
       "\n",
       "Here's a breakdown of why:\n",
       "\n",
       "1.  **Our Ancestors Had Tails:** Our very distant primate ancestors, like many monkeys today, definitely had tails. These tails were incredibly useful for:\n",
       "    *   **Balance:** Especially for arboreal (tree-dwelling) animals, a tail acts like a counterbalance, helping them navigate branches.\n",
       "    *   **Locomotion:** Some monkeys have prehensile tails, which can grip branches and act as a \"fifth limb.\"\n",
       "    *   **Communication:** Tails can be used to signal warnings, attract mates, or display dominance.\n",
       "\n",
       "2.  **The Evolutionary Split: Apes vs. Monkeys:**\n",
       "    *   Around 20-25 million years ago, the lineage that would lead to apes and humans diverged from the lineage of Old World monkeys. This was a critical point.\n",
       "    *   As our ape ancestors began to adopt different methods of moving through trees – like **brachiation** (swinging arm-over-arm) or spending more time upright – the tail became less essential for balance. In fact, a long, cumbersome tail could even become a hindrance.\n",
       "\n",
       "3.  **Advantages of Losing the Tail:**\n",
       "    *   **Improved Upright Posture:** For ancestors who were starting to spend more time on the ground or adopting more upright postures in trees, a tail wasn't needed for balance. A streamlined torso became more efficient.\n",
       "    *   **Enhanced Stability for Sitting:** Losing the tail allowed for a more stable, broad base for sitting, which is important for a variety of activities, from eating to tool-making.\n",
       "    *   **Reduced Energy Expenditure:** Growing and maintaining a tail takes energy. If it's not useful, that energy is better spent elsewhere.\n",
       "    *   **Simplified Body Plan:** A tail is an appendage that can be injured or caught. Removing it simplified the body plan for a changing lifestyle.\n",
       "\n",
       "4.  **The Vestige: Our Coccyx (Tailbone):**\n",
       "    *   While we don't have an external tail, we do have a remnant: the **coccyx**, or tailbone. This small, triangular bone at the very end of our spine is made up of several fused vertebrae.\n",
       "    *   It's a **vestigial structure** – a clear anatomical \"fossil\" from our tailed ancestors. It still serves minor functions, like providing attachment points for some muscles and ligaments, and supporting the pelvic floor.\n",
       "\n",
       "5.  **Embryonic Development:**\n",
       "    *   Interestingly, human embryos *do* develop a tail-like structure early in gestation (around 4-8 weeks). This is a fascinating glimpse into our evolutionary past, as it reflects the ancestral blueprint.\n",
       "    *   However, specific genes then trigger a process called **apoptosis** (programmed cell death), which causes these tail cells to be reabsorbed, and the structure regresses to form the coccyx. This genetic \"switch\" prevents the full development of an external tail.\n",
       "\n",
       "6.  **Rare Atavisms:**\n",
       "    *   Very rarely, due to a genetic mutation or developmental anomaly, a baby can be born with a small, fleshy \"vestigial tail.\" These are called **atavisms** – the reappearance of an ancestral trait that has been lost through evolution. They are usually benign and can be surgically removed.\n",
       "\n",
       "In summary, the absence of a tail in humans is not an accident or a lack, but rather a profound evolutionary adaptation. It reflects a shift in locomotion and lifestyle that began millions of years ago, ultimately leading to the unique way humans and other apes navigate the world."
      ],
      "text/plain": [
       "<IPython.core.display.Markdown object>"
      ]
     },
     "metadata": {},
     "output_type": "display_data"
    },
    {
     "data": {
      "text/markdown": [
       "-------------"
      ],
      "text/plain": [
       "<IPython.core.display.Markdown object>"
      ]
     },
     "metadata": {},
     "output_type": "display_data"
    }
   ],
   "source": [
    "for candidate in response.candidates:\n",
    "  display(Markdown(candidate.content.parts[0].text))\n",
    "  display(Markdown(\"-------------\"))\n"
   ]
  },
  {
   "cell_type": "markdown",
   "metadata": {
    "id": "2iUxBkmsPYvq"
   },
   "source": [
    "The response contains multiple full `Candidate` objects."
   ]
  },
  {
   "cell_type": "code",
   "execution_count": 16,
   "metadata": {
    "id": "fOxbI7oSRNV_"
   },
   "outputs": [
    {
     "data": {
      "text/plain": [
       "GenerateContentResponse(\n",
       "  automatic_function_calling_history=[],\n",
       "  candidates=[\n",
       "    Candidate(\n",
       "      content=Content(\n",
       "        parts=[\n",
       "          Part(\n",
       "            text=\"\"\"The simple answer is **evolution**. Humans, along with other great apes (like chimpanzees, gorillas, and orangutans), evolved in a way that made tails unnecessary and even disadvantageous for our primary mode of locomotion and lifestyle.\n",
       "\n",
       "Here's a more detailed breakdown:\n",
       "\n",
       "1.  **Our Ancestors Had Tails:** Our very distant primate ancestors *did* have tails. These were useful for balance when climbing through trees, for grasping branches (in some cases, like spider monkeys, who have prehensile tails), and for communication.\n",
       "\n",
       "2.  **The Shift to Apes:** The evolutionary lineage leading to humans diverged from monkeys millions of years ago. One of the key distinctions between Old World Monkeys (many of whom have tails) and Apes (none of whom have external tails) is this very feature.\n",
       "\n",
       "3.  **Bipedalism and Upright Posture:** This is the most significant factor. As our ancestors began to spend more time on the ground and eventually evolved to walk upright on two legs (bipedalism):\n",
       "    *   **Balance:** A tail, which helps quadrupedal animals (four-legged) balance, became less useful for bipedal balance. Our upright posture and changes in our spine and pelvis allow us to balance differently.\n",
       "    *   **Energy Cost:** Building and maintaining a tail (with bones, muscles, nerves, and skin) requires energy and resources. If it's not providing a significant advantage, natural selection will favor individuals who don't expend those resources on a redundant structure.\n",
       "    *   **Hindrance:** A tail might even have become a hindrance, potentially getting in the way or becoming a liability when navigating varied terrain or escaping predators while walking upright.\n",
       "\n",
       "4.  **Changes in Pelvis and Spine:** The evolution of bipedalism profoundly changed the structure of our pelvis and the curvature of our spine. These adaptations are crucial for supporting our body weight and maintaining balance while walking upright. A tail would require a different anatomical configuration that wouldn't fit well with our current structure.\n",
       "\n",
       "5.  **The Coccyx (Tailbone):** We still have a remnant of a tail! It's called the **coccyx**, or tailbone. This small, fused bone at the very bottom of our spine is the vestigial (non-functional remnant) of our ancestral tail. It serves a minor purpose today, providing an attachment point for some muscles and ligaments.\n",
       "\n",
       "6.  **Embryonic Development:** Interestingly, human embryos *do* have a tail-like structure (a \"caudal eminence\") during early development, around weeks 4-6. However, this structure normally recedes and is absorbed, fusing to form the coccyx. This fleeting embryonic tail is a powerful piece of evidence for our evolutionary history.\n",
       "\n",
       "In rare cases, babies are born with what is sometimes called a \"true human tail.\" This is a developmental anomaly (an atavism) where the embryonic tail structure doesn't fully regress. These are typically soft tissue growths and are usually removed surgically.\"\"\"\n",
       "          ),\n",
       "          Part(\n",
       "            text=\"\"\"It's a fascinating question that delves deep into our evolutionary history! The short answer is that **humans, along with other great apes (chimpanzees, gorillas, orangutans, and bonobos), lost their tails over millions of years of evolution because it was no longer advantageous and eventually became a disadvantage for their changing lifestyles.**\n",
       "\n",
       "Here's a breakdown of why:\n",
       "\n",
       "1.  **Our Ancestors Had Tails:** Our very distant primate ancestors, like many monkeys today, definitely had tails. These tails were incredibly useful for:\n",
       "    *   **Balance:** Especially for arboreal (tree-dwelling) animals, a tail acts like a counterbalance, helping them navigate branches.\n",
       "    *   **Locomotion:** Some monkeys have prehensile tails, which can grip branches and act as a \"fifth limb.\"\n",
       "    *   **Communication:** Tails can be used to signal warnings, attract mates, or display dominance.\n",
       "\n",
       "2.  **The Evolutionary Split: Apes vs. Monkeys:**\n",
       "    *   Around 20-25 million years ago, the lineage that would lead to apes and humans diverged from the lineage of Old World monkeys. This was a critical point.\n",
       "    *   As our ape ancestors began to adopt different methods of moving through trees – like **brachiation** (swinging arm-over-arm) or spending more time upright – the tail became less essential for balance. In fact, a long, cumbersome tail could even become a hindrance.\n",
       "\n",
       "3.  **Advantages of Losing the Tail:**\n",
       "    *   **Improved Upright Posture:** For ancestors who were starting to spend more time on the ground or adopting more upright postures in trees, a tail wasn't needed for balance. A streamlined torso became more efficient.\n",
       "    *   **Enhanced Stability for Sitting:** Losing the tail allowed for a more stable, broad base for sitting, which is important for a variety of activities, from eating to tool-making.\n",
       "    *   **Reduced Energy Expenditure:** Growing and maintaining a tail takes energy. If it's not useful, that energy is better spent elsewhere.\n",
       "    *   **Simplified Body Plan:** A tail is an appendage that can be injured or caught. Removing it simplified the body plan for a changing lifestyle.\n",
       "\n",
       "4.  **The Vestige: Our Coccyx (Tailbone):**\n",
       "    *   While we don't have an external tail, we do have a remnant: the **coccyx**, or tailbone. This small, triangular bone at the very end of our spine is made up of several fused vertebrae.\n",
       "    *   It's a **vestigial structure** – a clear anatomical \"fossil\" from our tailed ancestors. It still serves minor functions, like providing attachment points for some muscles and ligaments, and supporting the pelvic floor.\n",
       "\n",
       "5.  **Embryonic Development:**\n",
       "    *   Interestingly, human embryos *do* develop a tail-like structure early in gestation (around 4-8 weeks). This is a fascinating glimpse into our evolutionary past, as it reflects the ancestral blueprint.\n",
       "    *   However, specific genes then trigger a process called **apoptosis** (programmed cell death), which causes these tail cells to be reabsorbed, and the structure regresses to form the coccyx. This genetic \"switch\" prevents the full development of an external tail.\n",
       "\n",
       "6.  **Rare Atavisms:**\n",
       "    *   Very rarely, due to a genetic mutation or developmental anomaly, a baby can be born with a small, fleshy \"vestigial tail.\" These are called **atavisms** – the reappearance of an ancestral trait that has been lost through evolution. They are usually benign and can be surgically removed.\n",
       "\n",
       "In summary, the absence of a tail in humans is not an accident or a lack, but rather a profound evolutionary adaptation. It reflects a shift in locomotion and lifestyle that began millions of years ago, ultimately leading to the unique way humans and other apes navigate the world.\"\"\"\n",
       "          ),\n",
       "        ],\n",
       "        role='model'\n",
       "      ),\n",
       "      finish_reason=<FinishReason.STOP: 'STOP'>,\n",
       "      index=0\n",
       "    ),\n",
       "    Candidate(\n",
       "      content=Content(\n",
       "        parts=[\n",
       "          Part(\n",
       "            text=\"\"\"It's a fascinating question that delves deep into our evolutionary history! The short answer is that **humans, along with other great apes (chimpanzees, gorillas, orangutans, and bonobos), lost their tails over millions of years of evolution because it was no longer advantageous and eventually became a disadvantage for their changing lifestyles.**\n",
       "\n",
       "Here's a breakdown of why:\n",
       "\n",
       "1.  **Our Ancestors Had Tails:** Our very distant primate ancestors, like many monkeys today, definitely had tails. These tails were incredibly useful for:\n",
       "    *   **Balance:** Especially for arboreal (tree-dwelling) animals, a tail acts like a counterbalance, helping them navigate branches.\n",
       "    *   **Locomotion:** Some monkeys have prehensile tails, which can grip branches and act as a \"fifth limb.\"\n",
       "    *   **Communication:** Tails can be used to signal warnings, attract mates, or display dominance.\n",
       "\n",
       "2.  **The Evolutionary Split: Apes vs. Monkeys:**\n",
       "    *   Around 20-25 million years ago, the lineage that would lead to apes and humans diverged from the lineage of Old World monkeys. This was a critical point.\n",
       "    *   As our ape ancestors began to adopt different methods of moving through trees – like **brachiation** (swinging arm-over-arm) or spending more time upright – the tail became less essential for balance. In fact, a long, cumbersome tail could even become a hindrance.\n",
       "\n",
       "3.  **Advantages of Losing the Tail:**\n",
       "    *   **Improved Upright Posture:** For ancestors who were starting to spend more time on the ground or adopting more upright postures in trees, a tail wasn't needed for balance. A streamlined torso became more efficient.\n",
       "    *   **Enhanced Stability for Sitting:** Losing the tail allowed for a more stable, broad base for sitting, which is important for a variety of activities, from eating to tool-making.\n",
       "    *   **Reduced Energy Expenditure:** Growing and maintaining a tail takes energy. If it's not useful, that energy is better spent elsewhere.\n",
       "    *   **Simplified Body Plan:** A tail is an appendage that can be injured or caught. Removing it simplified the body plan for a changing lifestyle.\n",
       "\n",
       "4.  **The Vestige: Our Coccyx (Tailbone):**\n",
       "    *   While we don't have an external tail, we do have a remnant: the **coccyx**, or tailbone. This small, triangular bone at the very end of our spine is made up of several fused vertebrae.\n",
       "    *   It's a **vestigial structure** – a clear anatomical \"fossil\" from our tailed ancestors. It still serves minor functions, like providing attachment points for some muscles and ligaments, and supporting the pelvic floor.\n",
       "\n",
       "5.  **Embryonic Development:**\n",
       "    *   Interestingly, human embryos *do* develop a tail-like structure early in gestation (around 4-8 weeks). This is a fascinating glimpse into our evolutionary past, as it reflects the ancestral blueprint.\n",
       "    *   However, specific genes then trigger a process called **apoptosis** (programmed cell death), which causes these tail cells to be reabsorbed, and the structure regresses to form the coccyx. This genetic \"switch\" prevents the full development of an external tail.\n",
       "\n",
       "6.  **Rare Atavisms:**\n",
       "    *   Very rarely, due to a genetic mutation or developmental anomaly, a baby can be born with a small, fleshy \"vestigial tail.\" These are called **atavisms** – the reappearance of an ancestral trait that has been lost through evolution. They are usually benign and can be surgically removed.\n",
       "\n",
       "In summary, the absence of a tail in humans is not an accident or a lack, but rather a profound evolutionary adaptation. It reflects a shift in locomotion and lifestyle that began millions of years ago, ultimately leading to the unique way humans and other apes navigate the world.\"\"\"\n",
       "          ),\n",
       "        ],\n",
       "        role='model'\n",
       "      ),\n",
       "      finish_reason=<FinishReason.STOP: 'STOP'>,\n",
       "      index=1\n",
       "    ),\n",
       "  ],\n",
       "  model_version='gemini-2.5-flash',\n",
       "  response_id='vsvvaI7eMKGb1e8Px5vc6Qs',\n",
       "  sdk_http_response=HttpResponse(\n",
       "    headers=<dict len=11>\n",
       "  ),\n",
       "  usage_metadata=GenerateContentResponseUsageMetadata(\n",
       "    candidates_token_count=637,\n",
       "    prompt_token_count=9,\n",
       "    prompt_tokens_details=[\n",
       "      ModalityTokenCount(\n",
       "        modality=<MediaModality.TEXT: 'TEXT'>,\n",
       "        token_count=9\n",
       "      ),\n",
       "    ],\n",
       "    thoughts_token_count=2483,\n",
       "    total_token_count=3129\n",
       "  )\n",
       ")"
      ]
     },
     "execution_count": 16,
     "metadata": {},
     "output_type": "execute_result"
    }
   ],
   "source": [
    "response"
   ]
  },
  {
   "cell_type": "markdown",
   "metadata": {
    "id": "nw5ZwCCCUR2d"
   },
   "source": [
    "### Temperature, Top-k & Top-p Parameters"
   ]
  },
  {
   "cell_type": "markdown",
   "metadata": {
    "id": "8PeJ2GhBW537"
   },
   "source": [
    "parameters like `temperature`, `top_k`, and `top_p` can be used to influence the diversity and randomness of the model's output.\n",
    "\n",
    "* Temperature: Controls the randomness of token selection. Higher values (e.g., 1.5) increase diversity, while lower values (e.g., 0.2) make the output more deterministic.\n",
    "* Top-k: Limits the sampling to the top k most probable tokens, reducing randomness and encouraging repetition.\n",
    "* Top-p: Implements nucleus sampling, where the model considers the smallest set of tokens whose cumulative probability exceeds p.\n",
    "These parameters provide fine-grained control over the token sampling process, allowing you to achieve effects similar to those previously achieved with the `presence_penalty` parameter."
   ]
  },
  {
   "cell_type": "code",
   "execution_count": 17,
   "metadata": {
    "id": "Ecolt7BNHUr2"
   },
   "outputs": [],
   "source": [
    "from statistics import mean"
   ]
  },
  {
   "cell_type": "code",
   "execution_count": 18,
   "metadata": {
    "id": "1FbjPwM3ZIaH"
   },
   "outputs": [],
   "source": [
    "def unique_words(prompt, generation_config, N=10):\n",
    "  responses = []\n",
    "  vocab_fractions = []\n",
    "  for n in range(N):\n",
    "    response = client.models.generate_content(\n",
    "      model= model_name,\n",
    "      contents=prompt, \n",
    "      config=generation_config\n",
    "    )\n",
    "    responses.append(response)\n",
    "\n",
    "    # Access the text content of the first candidate\n",
    "    words = response.candidates[0].content.parts[0].text.lower().split()\n",
    "    score = len(set(words)) / len(words)\n",
    "    print(score)\n",
    "    vocab_fractions.append(score)\n",
    "\n",
    "  return vocab_fractions"
   ]
  },
  {
   "cell_type": "code",
   "execution_count": 19,
   "metadata": {
    "id": "n2PqpDPIZpr6"
   },
   "outputs": [],
   "source": [
    "prompt='Tell me a story'"
   ]
  },
  {
   "cell_type": "code",
   "execution_count": 168,
   "metadata": {
    "id": "6GTXnUVlYyY9"
   },
   "outputs": [
    {
     "name": "stdout",
     "output_type": "stream",
     "text": [
      "0.5416666666666666\n",
      "0.5492772667542707\n",
      "0.5197792088316467\n",
      "0.5365205843293492\n",
      "0.5467741935483871\n",
      "0.46190102120974075\n",
      "0.5428571428571428\n",
      "0.5366379310344828\n",
      "0.5372208436724566\n",
      "0.5211912943871707\n"
     ]
    }
   ],
   "source": [
    "# baseline\n",
    "v = unique_words(prompt, generation_config={})"
   ]
  },
  {
   "cell_type": "code",
   "execution_count": 169,
   "metadata": {
    "id": "ZwFZBP68wKp3"
   },
   "outputs": [
    {
     "data": {
      "text/plain": [
       "0.5293826153291314"
      ]
     },
     "execution_count": 169,
     "metadata": {},
     "output_type": "execute_result"
    }
   ],
   "source": [
    "mean(v)"
   ]
  },
  {
   "cell_type": "code",
   "execution_count": 170,
   "metadata": {
    "id": "DlM8BVflUpAj"
   },
   "outputs": [
    {
     "name": "stdout",
     "output_type": "stream",
     "text": [
      "0.533249686323714\n",
      "0.5445614035087719\n",
      "0.5016\n",
      "0.5420054200542005\n",
      "0.579734219269103\n",
      "0.5617647058823529\n",
      "0.5618479880774963\n",
      "0.5410225921521997\n",
      "0.5762514551804424\n",
      "0.560853199498118\n"
     ]
    }
   ],
   "source": [
    "# these temperature, top_k, and top_p parameters can be used for diversity in output tokens.\n",
    "v = unique_words(prompt, generation_config= dict(temperature=1.5))"
   ]
  },
  {
   "cell_type": "markdown",
   "metadata": {},
   "source": [
    "NOTE: \n",
    "* Penalty parameters (`presence_penalty`, `frequency_penalty`) are not supported in Gemini 2.5 models.\n"
   ]
  },
  {
   "cell_type": "markdown",
   "metadata": {},
   "source": [
    "Migration Note: \n",
    "* The penalty parameters previously available in older models (like `-002` versions) are no longer supported in the `Gemini 2.5` series. The new model architecture inherently handles issues like repetition, and attempts to set penalties will result in an `INVALID_ARGUMENT` error."
   ]
  },
  {
   "cell_type": "code",
   "execution_count": 171,
   "metadata": {
    "id": "HJo-_6_owQfu"
   },
   "outputs": [
    {
     "data": {
      "text/plain": [
       "0.5502890669946399"
      ]
     },
     "execution_count": 171,
     "metadata": {},
     "output_type": "execute_result"
    }
   ],
   "source": [
    "mean(v)"
   ]
  },
  {
   "cell_type": "code",
   "execution_count": null,
   "metadata": {
    "id": "G-CztHdqTc__"
   },
   "outputs": [
    {
     "name": "stdout",
     "output_type": "stream",
     "text": [
      "0.5728900255754475\n",
      "0.5348258706467661\n",
      "0.49242424242424243\n",
      "0.5516826923076923\n",
      "0.4813780260707635\n",
      "0.5251989389920424\n",
      "0.5091093117408907\n",
      "0.5685019206145967\n",
      "0.5222857142857142\n",
      "0.4861407249466951\n"
     ]
    }
   ],
   "source": [
    "# parameters like temperature, top_k, top_p can also discourage diversity in the output tokens.\n",
    "v = unique_words(prompt, generation_config=dict(temperature=0.2))"
   ]
  },
  {
   "cell_type": "code",
   "execution_count": 128,
   "metadata": {
    "id": "x1eWaOAOwWrE"
   },
   "outputs": [
    {
     "data": {
      "text/plain": [
       "0.5244437467604851"
      ]
     },
     "execution_count": 128,
     "metadata": {},
     "output_type": "execute_result"
    }
   ],
   "source": [
    "mean(v)"
   ]
  },
  {
   "cell_type": "markdown",
   "metadata": {
    "id": "nA7LkwvBMCjd"
   },
   "source": [
    "The `temperature`, `top_k`, and `top_p` parameters can be used to influence the diversity and randomness of the model's output. These parameters provide fine-grained control over the token sampling process, allowing you to achieve effects similar to those previously achieved with the `presence_penalty` parameter."
   ]
  },
  {
   "cell_type": "markdown",
   "metadata": {},
   "source": [
    "## Top-k Sampling"
   ]
  },
  {
   "cell_type": "markdown",
   "metadata": {
    "id": "P-m1BaNuXVoY"
   },
   "source": [
    "The `top_k` parameter limits the sampling to the top `k` most probable tokens, encouraging repetition and reducing randomness. This can be used as an alternative to the unsupported `frequency_penalty` parameter."
   ]
  },
  {
   "cell_type": "markdown",
   "metadata": {
    "id": "IZw9D5ZvWnmq"
   },
   "source": [
    "The easiest way to see that it works is to ask the model to do something repetitive. The model has to get creative while trying to complete the task."
   ]
  },
  {
   "cell_type": "code",
   "execution_count": 20,
   "metadata": {
    "id": "Ju9AIzBJ_-dR"
   },
   "outputs": [],
   "source": [
    "response = client.models.generate_content(\n",
    "    model= model_name,\n",
    "    contents='please repeat \"Cat\" 50 times, 10 per line, with random capitalization.',\n",
    "    config=dict(top_k=10)\n",
    ")"
   ]
  },
  {
   "cell_type": "code",
   "execution_count": 21,
   "metadata": {
    "id": "O9eixhvwS6It"
   },
   "outputs": [
    {
     "name": "stdout",
     "output_type": "stream",
     "text": [
      "Here are 50 instances of \"Cat\" with random capitalization, 10 per line:\n",
      "\n",
      "cAT cAt caT CAT Cat cAT CAt cat CAt caT\n",
      "cAT CA T CaT cAt cAT CA T CAt CA T CaT Cat\n",
      "caT cAT CAt Cat cAt Cat cAT CA T CAt Cat\n",
      "cAt cAt CAT CAt caT cAt cAt cAt CA T CaT\n",
      "CaT CAt caT cAt CA T CAt cAt cAt CaT cAT\n"
     ]
    }
   ],
   "source": [
    "print(response.candidates[0].content.parts[0].text)"
   ]
  },
  {
   "cell_type": "markdown",
   "metadata": {
    "id": "6HMQhl2bJnk1"
   },
   "source": [
    "Since the frequency penalty accumulates with usage, it can have a much stronger effect on the output compared to the presence penalty.\n",
    "\n",
    "> Caution: Be careful with negative frequency penalties: A negative penalty makes a token more likely the more it's used. This positive feedback quickly leads the model to just repeat a common token until it hits the `max_output_tokens` limit (once it starts the model can't produce the `<STOP>` token)."
   ]
  },
  {
   "cell_type": "code",
   "execution_count": 33,
   "metadata": {},
   "outputs": [],
   "source": [
    "from IPython.display import display, Markdown"
   ]
  },
  {
   "cell_type": "code",
   "execution_count": 34,
   "metadata": {
    "id": "48HdqCUK2oT9"
   },
   "outputs": [
    {
     "name": "stdout",
     "output_type": "stream",
     "text": [
      "sdk_http_response=HttpResponse(\n",
      "  headers=<dict len=11>\n",
      ") candidates=[Candidate(\n",
      "  content=Content(\n",
      "    role='model'\n",
      "  ),\n",
      "  finish_reason=<FinishReason.MAX_TOKENS: 'MAX_TOKENS'>,\n",
      "  index=0\n",
      ")] create_time=None model_version='gemini-2.5-flash' prompt_feedback=None response_id='E8_vaPP1OqGb1e8Px5vc6Qs' usage_metadata=GenerateContentResponseUsageMetadata(\n",
      "  prompt_token_count=19,\n",
      "  prompt_tokens_details=[\n",
      "    ModalityTokenCount(\n",
      "      modality=<MediaModality.TEXT: 'TEXT'>,\n",
      "      token_count=19\n",
      "    ),\n",
      "  ],\n",
      "  thoughts_token_count=399,\n",
      "  total_token_count=418\n",
      ") automatic_function_calling_history=[] parsed=None\n"
     ]
    }
   ],
   "source": [
    "response = client.models.generate_content(\n",
    "    model=model,\n",
    "    contents ='Tell me a story about a brave cat by the sea, make it poetic and descriptive.',\n",
    "    config=dict(\n",
    "        max_output_tokens=400,\n",
    "        top_p=0.2,\n",
    "        temperature=0.2,\n",
    "        )    # Controls randomness in token selection\n",
    ")\n",
    "print(response)"
   ]
  },
  {
   "cell_type": "markdown",
   "metadata": {},
   "source": [
    "### Token Consumption in Gemini 2.5 Models\n",
    "\n",
    "In the Gemini 2.5 models, the \"thoughts\" token count often consumes the majority of the allocated tokens, leaving little room for generating meaningful output. This behavior is particularly noticeable when using the `max_output_tokens` parameter, as shown in the example below.\n",
    "\n",
    "Additionally, the `frequency_penalty` parameter, which was available in older models, is not supported in Gemini 2.5. The new model architecture inherently handles repetition issues, but this can lead to scenarios where token allocation is dominated by internal reasoning rather than output generation.\n",
    "\n",
    "> **Observation**: The `finish_reason` in the response indicates `MAX_TOKENS`, highlighting that the model reached the token limit without producing meaningful content."
   ]
  },
  {
   "cell_type": "code",
   "execution_count": 35,
   "metadata": {
    "id": "2QpGQoHU27zK"
   },
   "outputs": [
    {
     "data": {
      "text/plain": [
       "<IPython.core.display.Markdown object>"
      ]
     },
     "execution_count": 35,
     "metadata": {},
     "output_type": "execute_result"
    }
   ],
   "source": [
    "Markdown(response.text)  # the, the, the, ..."
   ]
  },
  {
   "cell_type": "code",
   "execution_count": 36,
   "metadata": {
    "id": "tmntZO3gNt6r"
   },
   "outputs": [
    {
     "data": {
      "text/plain": [
       "<FinishReason.MAX_TOKENS: 'MAX_TOKENS'>"
      ]
     },
     "execution_count": 36,
     "metadata": {},
     "output_type": "execute_result"
    }
   ],
   "source": [
    "response.candidates[0].finish_reason"
   ]
  }
 ],
 "metadata": {
  "colab": {
   "name": "New_in_002.ipynb",
   "toc_visible": true
  },
  "kernelspec": {
   "display_name": "Python 3",
   "name": "python3"
  },
  "language_info": {
   "codemirror_mode": {
    "name": "ipython",
    "version": 3
   },
   "file_extension": ".py",
   "mimetype": "text/x-python",
   "name": "python",
   "nbconvert_exporter": "python",
   "pygments_lexer": "ipython3",
   "version": "3.13.5"
  }
 },
 "nbformat": 4,
 "nbformat_minor": 0
}
